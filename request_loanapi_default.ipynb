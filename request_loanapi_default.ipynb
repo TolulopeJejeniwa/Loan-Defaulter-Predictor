{
 "cells": [
  {
   "cell_type": "code",
   "execution_count": 1,
   "id": "9c9462ea",
   "metadata": {},
   "outputs": [],
   "source": [
    "import requests"
   ]
  },
  {
   "cell_type": "code",
   "execution_count": 2,
   "id": "a1cec08d",
   "metadata": {},
   "outputs": [],
   "source": [
    "url = 'http://127.0.0.1:5000/predict'\n"
   ]
  },
  {
   "cell_type": "code",
   "execution_count": null,
   "id": "b8120bb6",
   "metadata": {},
   "outputs": [],
   "source": [
    "data = {\n",
    "    \"Age\": 46,\n",
    "    \"Income\": 80000,\n",
    "    \"LoanAmount\": 120000,\n",
    "    \"CreditScore\": 450,\n",
    "    \"MonthsEmployed\": 26,\n",
    "    \"NumCreditLines\": 3,\n",
    "    \"InterestRate\": 21.5,\n",
    "    \"LoanTerm\": 24,\n",
    "    \"DTIRatio\": 0.31,\n",
    "    \"Education\": \"Master's\",\n",
    "    \"EmploymentType\": \"Unemployed\",\n",
    "    \"MaritalStatus\": \"Divorced\",\n",
    "    \"HasMortgage\": \"Yes\",\n",
    "    \"HasDependents\": \"Yes\",\n",
    "    \"LoanPurpose\": \"Auto\",\n",
    "    \"HasCoSigner\": \"No\"\n",
    "}\n"
   ]
  },
  {
   "cell_type": "code",
   "execution_count": null,
   "id": "3a1ea625",
   "metadata": {},
   "outputs": [],
   "source": [
    "response = requests.post(url, json=data)\n",
    "print(response.json())"
   ]
  },
  {
   "cell_type": "code",
   "execution_count": 42,
   "id": "280fc7ba",
   "metadata": {},
   "outputs": [],
   "source": [
    "data2 = {\n",
    "    \"Age\": 60,\n",
    "    \"Income\": 20437,\n",
    "    \"LoanAmount\": 9139,\n",
    "    \"CreditScore\": 633,\n",
    "    \"MonthsEmployed\": 8,\n",
    "    \"NumCreditLines\": 4,\n",
    "    \"InterestRate\": 6.51,\n",
    "    \"LoanTerm\": 48,\n",
    "    \"DTIRatio\": 0.73,\n",
    "    \"Education\": \"High School\",\n",
    "    \"EmploymentType\": \"Self-employed\",\n",
    "    \"MaritalStatus\": \"Single\",\n",
    "    \"HasMortgage\": \"No\",\n",
    "    \"HasDependents\": \"Yes\",\n",
    "    \"LoanPurpose\": \"Auto\",\n",
    "    \"HasCoSigner\": \"No\"\n",
    "}"
   ]
  },
  {
   "cell_type": "code",
   "execution_count": 43,
   "id": "57faacc3",
   "metadata": {},
   "outputs": [
    {
     "name": "stdout",
     "output_type": "stream",
     "text": [
      "{'prediction': 0}\n"
     ]
    }
   ],
   "source": [
    "response2 = requests.post(url, json=data2)\n",
    "print(response2.json())"
   ]
  },
  {
   "cell_type": "code",
   "execution_count": null,
   "id": "d7dc2286",
   "metadata": {},
   "outputs": [],
   "source": []
  }
 ],
 "metadata": {
  "kernelspec": {
   "display_name": "Python 3 (ipykernel)",
   "language": "python",
   "name": "python3"
  },
  "language_info": {
   "codemirror_mode": {
    "name": "ipython",
    "version": 3
   },
   "file_extension": ".py",
   "mimetype": "text/x-python",
   "name": "python",
   "nbconvert_exporter": "python",
   "pygments_lexer": "ipython3",
   "version": "3.11.5"
  }
 },
 "nbformat": 4,
 "nbformat_minor": 5
}
